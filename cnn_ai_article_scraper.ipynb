{
  "cells": [
    {
      "cell_type": "markdown",
      "metadata": {
        "id": "view-in-github",
        "colab_type": "text"
      },
      "source": [
        "<a href=\"https://colab.research.google.com/github/yjyuwisely/AI_project_mastery_bootcamp/blob/main/cnn_ai_article_scraper.ipynb\" target=\"_parent\"><img src=\"https://colab.research.google.com/assets/colab-badge.svg\" alt=\"Open In Colab\"/></a>"
      ]
    },
    {
      "cell_type": "markdown",
      "metadata": {
        "id": "gu9ZHI1Fi_zZ"
      },
      "source": [
        "미니 프로젝트 (2024.11.03)\n",
        "\n",
        "- **목표**: CNN (edition.cnn.com)에서 \"Artificial Intelligence(인공지능)\"를 검색한 후,\n",
        "검색 결과에서 기사 제목과 URL을 각각 5개 가져오기\n",
        "\n",
        "- **한계**: 수업에서 진행한 네이버 뉴스 메인 페이지의 '검색 아이콘 요소'를 가져오는 방식이 CNN 메인 웹페이지에서는 작동하지 않았습니다. 대신, 돋보기 아이콘을 클릭해 빈 검색 창을 열었을 때 표시되는 검색 페이지 URL (https://edition.cnn.com/search?q=&from=0&size=10&page=1&sort=newest&types=all&section=) 을 사용하여 작업을 완료했습니다."
      ]
    },
    {
      "cell_type": "markdown",
      "source": [
        "- **코드 및 결과**\n",
        "\n"
      ],
      "metadata": {
        "id": "ER1f_FBbjCVo"
      }
    },
    {
      "cell_type": "code",
      "execution_count": null,
      "metadata": {
        "id": "nrXL-QbMi_za",
        "outputId": "cc7eb976-a43c-426d-eaa7-da3a385c6cbb"
      },
      "outputs": [
        {
          "name": "stdout",
          "output_type": "stream",
          "text": [
            "기사 1: Apple wants its AI iPhone to turn around a sales rut. Here’s how it’s going so far\n",
            "URL: https://www.cnn.com/2024/10/31/tech/iphone-16-ai-early-sales-numbers-earnings/index.html\n",
            "\n",
            "기사 2: Apple debuted AI on the iPhone today. Here’s what to look out for\n",
            "URL: https://www.cnn.com/2024/10/28/tech/apple-iphone-ai/index.html\n",
            "\n",
            "기사 3: Welcome to the ‘show me the money’ quarter\n",
            "URL: https://www.cnn.com/2024/10/26/investing/q3-earnings-ai-tech/index.html\n",
            "\n",
            "기사 4: Painting by AI robot Ai-Da could fetch more than $120,000 at auction\n",
            "URL: https://www.cnn.com/2024/10/24/style/ai-da-ai-robot-painting-auction-sothebys-intl-scli-tan/index.html\n",
            "\n",
            "기사 5: Biden makes clear AI can’t launch nukes as he looks to harness new technology’s power\n",
            "URL: https://www.cnn.com/2024/10/24/politics/joe-biden-artificial-intelligence-nuclear-weapons/index.html\n",
            "\n"
          ]
        }
      ],
      "source": [
        "# Import necessary modules\n",
        "# 필요한 모듈을 가져옵니다\n",
        "from selenium import webdriver\n",
        "from selenium.webdriver.common.by import By\n",
        "from selenium.webdriver.chrome.service import Service as ChromeService\n",
        "from webdriver_manager.chrome import ChromeDriverManager\n",
        "import time\n",
        "\n",
        "# Initialize the Chrome WebDriver\n",
        "# Chrome 웹드라이버 초기화\n",
        "driver = webdriver.Chrome(service=ChromeService(ChromeDriverManager().install()))\n",
        "\n",
        "# Open CNN search page\n",
        "# CNN 검색 페이지 열기\n",
        "url = 'https://edition.cnn.com/search?q=&from=0&size=10&page=1&sort=newest&types=all&section='\n",
        "driver.get(url)\n",
        "\n",
        "# Locate the search input field and search button\n",
        "# 검색 입력 필드와 검색 버튼 찾기\n",
        "search_input = driver.find_element(By.XPATH, '//*[@id=\"search\"]/div[1]/div[1]/input')\n",
        "search_button = driver.find_element(By.XPATH, '//*[@id=\"search\"]/div[1]/div[1]/button[2]')\n",
        "\n",
        "# Input search term and click search\n",
        "# 검색어 입력 및 검색 버튼 클릭\n",
        "search_input.send_keys(\"Artificial Intelligence\")\n",
        "search_button.click()\n",
        "\n",
        "# Wait for the results to load\n",
        "# 결과가 로드될 때까지 대기\n",
        "time.sleep(3)  # 필요에 따라 이 지연 시간을 조정\n",
        "\n",
        "# Define a general XPath pattern for all article link elements\n",
        "# 모든 기사 링크 요소에 대한 일반 XPath 패턴 정의\n",
        "path = '//*[@id=\"search\"]/div[2]/div/div[2]//a[2]'\n",
        "\n",
        "# Get all elements that match the XPath for article links\n",
        "# 기사 링크에 대한 XPath와 일치하는 모든 요소 가져오기\n",
        "article_elements = driver.find_elements(By.XPATH, path)\n",
        "\n",
        "# Print the text and URL of the first 5 articles, if available\n",
        "# 사용 가능한 경우 첫 5개의 기사 제목 및 URL 출력\n",
        "for i, article in enumerate(article_elements[:5]):  # Limit to first 5 articles (첫 5개의 기사로 제한)\n",
        "    title = article.find_element(By.XPATH, './div/div[1]/span').text  # Get the title text (제목 텍스트 가져오기)\n",
        "    url = article.get_attribute('href')  # Get the URL (URL 가져오기)\n",
        "    print(f\"기사 {i + 1}: {title}\")  # Print article title (기사 제목 출력)\n",
        "    print(f\"URL: {url}\\n\")  # Print article URL (기사 URL 출력)"
      ]
    },
    {
      "cell_type": "markdown",
      "metadata": {
        "id": "BHoQogGji_zb"
      },
      "source": [
        "- **결과물 저장 방식**\n",
        "1. Text 파일로 저장하기"
      ]
    },
    {
      "cell_type": "code",
      "execution_count": null,
      "metadata": {
        "id": "YWJ0xKC_i_zb"
      },
      "outputs": [],
      "source": [
        "with open(\"cnn_ai_articles.txt\", \"w\", encoding=\"utf-8\") as file:\n",
        "    for i, article in enumerate(article_elements[:5]):\n",
        "        title = article.find_element(By.XPATH, './div/div[1]/span').text\n",
        "        url = article.get_attribute('href')\n",
        "        file.write(f\"기사 {i + 1}: {title}\\n\")\n",
        "        file.write(f\"URL: {url}\\n\\n\")"
      ]
    },
    {
      "cell_type": "markdown",
      "metadata": {
        "id": "_DdKCnjWi_zb"
      },
      "source": [
        "결과"
      ]
    },
    {
      "cell_type": "code",
      "execution_count": null,
      "metadata": {
        "id": "q_L5yoRzi_zb"
      },
      "outputs": [],
      "source": [
        "기사 1: Apple wants its AI iPhone to turn around a sales rut. Here’s how it’s going so far\n",
        "URL: https://www.cnn.com/2024/10/31/tech/iphone-16-ai-early-sales-numbers-earnings/index.html\n",
        "\n",
        "기사 2: Apple debuted AI on the iPhone today. Here’s what to look out for\n",
        "URL: https://www.cnn.com/2024/10/28/tech/apple-iphone-ai/index.html\n",
        "\n",
        "기사 3: Welcome to the ‘show me the money’ quarter\n",
        "URL: https://www.cnn.com/2024/10/26/investing/q3-earnings-ai-tech/index.html\n",
        "\n",
        "기사 4: Painting by AI robot Ai-Da could fetch more than $120,000 at auction\n",
        "URL: https://www.cnn.com/2024/10/24/style/ai-da-ai-robot-painting-auction-sothebys-intl-scli-tan/index.html\n",
        "\n",
        "기사 5: Biden makes clear AI can’t launch nukes as he looks to harness new technology’s power\n",
        "URL: https://www.cnn.com/2024/10/24/politics/joe-biden-artificial-intelligence-nuclear-weapons/index.html"
      ]
    },
    {
      "cell_type": "markdown",
      "metadata": {
        "id": "-Tj2tTqNi_zc"
      },
      "source": [
        "2. CSV 파일로 저장하기"
      ]
    },
    {
      "cell_type": "code",
      "execution_count": null,
      "metadata": {
        "id": "gP74yJs_i_zc"
      },
      "outputs": [],
      "source": [
        "import csv\n",
        "\n",
        "with open(\"cnn_ai_articles.csv\", \"w\", newline=\"\", encoding=\"utf-8\") as file:\n",
        "    writer = csv.writer(file)\n",
        "    writer.writerow([\"Article Number\", \"Title\", \"URL\"])  # Header row\n",
        "    for i, article in enumerate(article_elements[:5]):\n",
        "        title = article.find_element(By.XPATH, './div/div[1]/span').text\n",
        "        url = article.get_attribute('href')\n",
        "        writer.writerow([i + 1, title, url])"
      ]
    },
    {
      "cell_type": "markdown",
      "metadata": {
        "id": "y-W3j88-i_zc"
      },
      "source": [
        "결과"
      ]
    },
    {
      "cell_type": "code",
      "execution_count": null,
      "metadata": {
        "id": "NnXeFI7qi_zc"
      },
      "outputs": [],
      "source": [
        "Article Number,Title,URL\n",
        "1,Apple wants its AI iPhone to turn around a sales rut. Here’s how it’s going so far,https://www.cnn.com/2024/10/31/tech/iphone-16-ai-early-sales-numbers-earnings/index.html\n",
        "2,Apple debuted AI on the iPhone today. Here’s what to look out for,https://www.cnn.com/2024/10/28/tech/apple-iphone-ai/index.html\n",
        "3,Welcome to the ‘show me the money’ quarter,https://www.cnn.com/2024/10/26/investing/q3-earnings-ai-tech/index.html\n",
        "4,\"Painting by AI robot Ai-Da could fetch more than $120,000 at auction\",https://www.cnn.com/2024/10/24/style/ai-da-ai-robot-painting-auction-sothebys-intl-scli-tan/index.html\n",
        "5,Biden makes clear AI can’t launch nukes as he looks to harness new technology’s power,https://www.cnn.com/2024/10/24/politics/joe-biden-artificial-intelligence-nuclear-weapons/index.html"
      ]
    },
    {
      "cell_type": "markdown",
      "metadata": {
        "id": "RQiQv6Lni_zc"
      },
      "source": [
        "3. JSON 파일로 저장하기"
      ]
    },
    {
      "cell_type": "code",
      "execution_count": null,
      "metadata": {
        "id": "bOhBiBGzi_zc"
      },
      "outputs": [],
      "source": [
        "import json\n",
        "\n",
        "articles = []\n",
        "for i, article in enumerate(article_elements[:5]):\n",
        "    title = article.find_element(By.XPATH, './div/div[1]/span').text\n",
        "    url = article.get_attribute('href')\n",
        "    articles.append({\"Article Number\": i + 1, \"Title\": title, \"URL\": url})\n",
        "\n",
        "with open(\"cnn_ai_articles.json\", \"w\", encoding=\"utf-8\") as file:\n",
        "    json.dump(articles, file, ensure_ascii=False, indent=4)"
      ]
    },
    {
      "cell_type": "markdown",
      "metadata": {
        "id": "yuLDTURMi_zd"
      },
      "source": [
        "결과"
      ]
    },
    {
      "cell_type": "code",
      "execution_count": null,
      "metadata": {
        "id": "STiv1z6ki_zd"
      },
      "outputs": [],
      "source": [
        "[\n",
        "    {\n",
        "        \"Article Number\": 1,\n",
        "        \"Title\": \"Apple wants its AI iPhone to turn around a sales rut. Here’s how it’s going so far\",\n",
        "        \"URL\": \"https://www.cnn.com/2024/10/31/tech/iphone-16-ai-early-sales-numbers-earnings/index.html\"\n",
        "    },\n",
        "    {\n",
        "        \"Article Number\": 2,\n",
        "        \"Title\": \"Apple debuted AI on the iPhone today. Here’s what to look out for\",\n",
        "        \"URL\": \"https://www.cnn.com/2024/10/28/tech/apple-iphone-ai/index.html\"\n",
        "    },\n",
        "    {\n",
        "        \"Article Number\": 3,\n",
        "        \"Title\": \"Welcome to the ‘show me the money’ quarter\",\n",
        "        \"URL\": \"https://www.cnn.com/2024/10/26/investing/q3-earnings-ai-tech/index.html\"\n",
        "    },\n",
        "    {\n",
        "        \"Article Number\": 4,\n",
        "        \"Title\": \"Painting by AI robot Ai-Da could fetch more than $120,000 at auction\",\n",
        "        \"URL\": \"https://www.cnn.com/2024/10/24/style/ai-da-ai-robot-painting-auction-sothebys-intl-scli-tan/index.html\"\n",
        "    },\n",
        "    {\n",
        "        \"Article Number\": 5,\n",
        "        \"Title\": \"Biden makes clear AI can’t launch nukes as he looks to harness new technology’s power\",\n",
        "        \"URL\": \"https://www.cnn.com/2024/10/24/politics/joe-biden-artificial-intelligence-nuclear-weapons/index.html\"\n",
        "    }\n",
        "]"
      ]
    },
    {
      "cell_type": "markdown",
      "metadata": {
        "id": "6zjMsMFOi_zd"
      },
      "source": [
        "- **수업 예제** (2024.11.01)\n",
        "\n",
        "**1. Selenium을 이용한 웹 크롤링**"
      ]
    },
    {
      "cell_type": "code",
      "execution_count": null,
      "metadata": {
        "id": "RAo9znHTi_zd"
      },
      "outputs": [],
      "source": [
        "# 작업에 필요한 패키지를 불러옵니다\n",
        "from selenium import webdriver\n",
        "from selenium.webdriver.chrome.service import Service as ChromeService\n",
        "from webdriver_manager.chrome import ChromeDriverManager"
      ]
    },
    {
      "cell_type": "code",
      "execution_count": null,
      "metadata": {
        "id": "HsXMmvnSi_zd"
      },
      "outputs": [],
      "source": [
        "# Chrome 브라우저를 오픈합니다\n",
        "driver = webdriver.Chrome(service=ChromeService(ChromeDriverManager().install()))"
      ]
    },
    {
      "cell_type": "code",
      "execution_count": null,
      "metadata": {
        "id": "ydTwtFTVi_zd",
        "outputId": "d1861d8c-09fe-4ae1-ddc8-24bfc8c943d3"
      },
      "outputs": [
        {
          "name": "stdout",
          "output_type": "stream",
          "text": [
            "<selenium.webdriver.remote.webelement.WebElement (session=\"1eb0fdc87eb68b3c77ff9ceeef2c058f\", element=\"f.781CE7D7A19D2CE1A344B51CA5D62DAD.d.0BA3DBF09179CB2931FB1417C8E5BA0F.e.23\")>\n",
            "a\n",
            "10. 랭킹 정보 가져오기(웹 크롤링)\n"
          ]
        }
      ],
      "source": [
        "url = 'https://ldjwj.github.io/webPage/'\n",
        "driver.get(url)\n",
        "\n",
        "selected_id = driver.find_element(By.ID, 'rank')\n",
        "print(selected_id)\n",
        "print(selected_id.tag_name)  # 해당 요소의 태그 이름\n",
        "print(selected_id.text)      # 해당 요소의 텍스트 정보"
      ]
    },
    {
      "cell_type": "code",
      "execution_count": null,
      "metadata": {
        "id": "-FRuAtw_i_zd",
        "outputId": "48937481-a2f0-4f1a-bdcf-ab5cb36a29af"
      },
      "outputs": [
        {
          "name": "stdout",
          "output_type": "stream",
          "text": [
            "<selenium.webdriver.remote.webelement.WebElement (session=\"1eb0fdc87eb68b3c77ff9ceeef2c058f\", element=\"f.781CE7D7A19D2CE1A344B51CA5D62DAD.d.0BA3DBF09179CB2931FB1417C8E5BA0F.e.23\")>\n",
            "10. 랭킹 정보 가져오기(웹 크롤링)\n"
          ]
        }
      ],
      "source": [
        "from selenium.webdriver.common.by import By\n",
        "select_id = driver.find_element(By.ID, 'rank')\n",
        "print(select_id)\n",
        "print(select_id.text)"
      ]
    },
    {
      "cell_type": "code",
      "execution_count": null,
      "metadata": {
        "id": "RTiSvtJWi_zd",
        "outputId": "27e78cd2-29ba-4e6a-ca3b-c75386b95164"
      },
      "outputs": [
        {
          "name": "stdout",
          "output_type": "stream",
          "text": [
            "my web page\n",
            "<selenium.webdriver.remote.webelement.WebElement (session=\"1eb0fdc87eb68b3c77ff9ceeef2c058f\", element=\"f.781CE7D7A19D2CE1A344B51CA5D62DAD.d.0BA3DBF09179CB2931FB1417C8E5BA0F.e.24\")>\n"
          ]
        }
      ],
      "source": [
        "sel_tag_h1 = driver.find_element(By.TAG_NAME, 'h1')\n",
        "print(sel_tag_h1.text)\n",
        "print(sel_tag_h1)"
      ]
    },
    {
      "cell_type": "code",
      "execution_count": null,
      "metadata": {
        "id": "-EUGdhJIi_ze",
        "outputId": "079c7340-330f-4a67-f15c-9443d91dcf86"
      },
      "outputs": [
        {
          "name": "stdout",
          "output_type": "stream",
          "text": [
            "[<selenium.webdriver.remote.webelement.WebElement (session=\"1eb0fdc87eb68b3c77ff9ceeef2c058f\", element=\"f.781CE7D7A19D2CE1A344B51CA5D62DAD.d.0BA3DBF09179CB2931FB1417C8E5BA0F.e.25\")>, <selenium.webdriver.remote.webelement.WebElement (session=\"1eb0fdc87eb68b3c77ff9ceeef2c058f\", element=\"f.781CE7D7A19D2CE1A344B51CA5D62DAD.d.0BA3DBF09179CB2931FB1417C8E5BA0F.e.26\")>, <selenium.webdriver.remote.webelement.WebElement (session=\"1eb0fdc87eb68b3c77ff9ceeef2c058f\", element=\"f.781CE7D7A19D2CE1A344B51CA5D62DAD.d.0BA3DBF09179CB2931FB1417C8E5BA0F.e.27\")>, <selenium.webdriver.remote.webelement.WebElement (session=\"1eb0fdc87eb68b3c77ff9ceeef2c058f\", element=\"f.781CE7D7A19D2CE1A344B51CA5D62DAD.d.0BA3DBF09179CB2931FB1417C8E5BA0F.e.28\")>, <selenium.webdriver.remote.webelement.WebElement (session=\"1eb0fdc87eb68b3c77ff9ceeef2c058f\", element=\"f.781CE7D7A19D2CE1A344B51CA5D62DAD.d.0BA3DBF09179CB2931FB1417C8E5BA0F.e.29\")>, <selenium.webdriver.remote.webelement.WebElement (session=\"1eb0fdc87eb68b3c77ff9ceeef2c058f\", element=\"f.781CE7D7A19D2CE1A344B51CA5D62DAD.d.0BA3DBF09179CB2931FB1417C8E5BA0F.e.30\")>, <selenium.webdriver.remote.webelement.WebElement (session=\"1eb0fdc87eb68b3c77ff9ceeef2c058f\", element=\"f.781CE7D7A19D2CE1A344B51CA5D62DAD.d.0BA3DBF09179CB2931FB1417C8E5BA0F.e.31\")>, <selenium.webdriver.remote.webelement.WebElement (session=\"1eb0fdc87eb68b3c77ff9ceeef2c058f\", element=\"f.781CE7D7A19D2CE1A344B51CA5D62DAD.d.0BA3DBF09179CB2931FB1417C8E5BA0F.e.32\")>, <selenium.webdriver.remote.webelement.WebElement (session=\"1eb0fdc87eb68b3c77ff9ceeef2c058f\", element=\"f.781CE7D7A19D2CE1A344B51CA5D62DAD.d.0BA3DBF09179CB2931FB1417C8E5BA0F.e.33\")>, <selenium.webdriver.remote.webelement.WebElement (session=\"1eb0fdc87eb68b3c77ff9ceeef2c058f\", element=\"f.781CE7D7A19D2CE1A344B51CA5D62DAD.d.0BA3DBF09179CB2931FB1417C8E5BA0F.e.23\")>]\n"
          ]
        }
      ],
      "source": [
        "from selenium.webdriver.common.by import By\n",
        "\n",
        "## 전체 a태그 정보 가져오기\n",
        "# selected_tags_a = driver.find_elements_by_tag_name('a')\n",
        "selected_tag_a = driver.find_elements(By.TAG_NAME, 'a')\n",
        "print(selected_tag_a)"
      ]
    },
    {
      "cell_type": "code",
      "execution_count": null,
      "metadata": {
        "id": "wIzn4N3ui_ze",
        "outputId": "81db3253-aaae-4efd-a17b-944665483f5c"
      },
      "outputs": [
        {
          "name": "stdout",
          "output_type": "stream",
          "text": [
            "<class 'list'>\n",
            "01. 제목 가져오기(title)\n",
            "02. 텍스트 가져오기(p)\n",
            "03. 링크 가져오기(a)\n",
            "04. 이미지 정보 가져오기(img)\n",
            "05. 리스트 정보 가져오기(ul,ol)\n",
            "06. id를 활용한 정보 획득\n",
            "07. class를 활용한 정보 획득\n",
            "08. 하나의 이미지 다운로드\n",
            "09. 여러개의 이미지 다운로드\n",
            "10. 랭킹 정보 가져오기(웹 크롤링)\n"
          ]
        }
      ],
      "source": [
        "sel_tag_a1 = driver.find_elements(By.TAG_NAME, 'a')\n",
        "print(type(sel_tag_a1))\n",
        "for one in sel_tag_a1:\n",
        "    print(one.text)"
      ]
    },
    {
      "cell_type": "markdown",
      "metadata": {
        "id": "_p0A8vnyi_ze"
      },
      "source": [
        "**2. 네이버 뉴스에서 키워드 검색 예제**"
      ]
    },
    {
      "cell_type": "code",
      "execution_count": null,
      "metadata": {
        "id": "b1reAc7_i_ze"
      },
      "outputs": [],
      "source": [
        "from selenium import webdriver\n",
        "from selenium.webdriver.common.by import By\n",
        "\n",
        "url = 'https://news.naver.com/'\n",
        "\n",
        "# 웹 드라이버를 사용하여 지정된 URL로 이동합니다.\n",
        "driver.get(url)"
      ]
    },
    {
      "cell_type": "code",
      "execution_count": null,
      "metadata": {
        "id": "UZCr8R_Pi_ze",
        "outputId": "bbd3cd2b-be06-4289-8e90-67e9bc7befcb"
      },
      "outputs": [
        {
          "name": "stdout",
          "output_type": "stream",
          "text": [
            "a\n",
            "검색\n",
            "input\n",
            "\n",
            "button\n",
            "뉴스검색\n"
          ]
        }
      ],
      "source": [
        "from selenium.webdriver.common.by import By\n",
        "\n",
        "# 검색 아이콘 요소 찾기\n",
        "# /html/body/section/header/div[1]/div/div/div[2]/div[3]/a\n",
        "search_icon = driver.find_element(By.XPATH, '/html/body/section/header/div[1]/div/div/div[2]/div[3]/a')\n",
        "print(search_icon.tag_name)\n",
        "print(search_icon.text)\n",
        "search_icon.click()\n",
        "\n",
        "\n",
        "# 검색창 요소 찾기\n",
        "# //*[@id=\"u_hs\"]/div/div/input\n",
        "search_input = driver.find_element(By.XPATH, '//*[@id=\"u_hs\"]/div/div/input')\n",
        "print(search_input.tag_name)\n",
        "print(search_input.text)\n",
        "\n",
        "# 검색 버튼 요소 찾기\n",
        "# //*[@id=\"u_hs\"]/div/div/button[2]\n",
        "search_button = driver.find_element(By.XPATH, '//*[@id=\"u_hs\"]/div/div/button[2]')\n",
        "print(search_button.tag_name)\n",
        "print(search_button.text)\n",
        "\n",
        "# 검색어 입력 및 검색 실행\n",
        "search_input.send_keys(\"패션\")\n",
        "search_button.click()"
      ]
    },
    {
      "cell_type": "code",
      "execution_count": null,
      "metadata": {
        "id": "iYY593aYi_ze",
        "outputId": "0fa1e0ae-08a7-4319-deaf-6548ddfeaebb"
      },
      "outputs": [
        {
          "name": "stdout",
          "output_type": "stream",
          "text": [
            "781CE7D7A19D2CE1A344B51CA5D62DAD\n",
            "['781CE7D7A19D2CE1A344B51CA5D62DAD', '8FE080541522135F5192FB2E13B2DB74']\n",
            "새로운 탭의 URL: https://search.naver.com/search.naver?where=news&ie=utf8&sm=nws_hty&query=%ED%8C%A8%EC%85%98\n"
          ]
        }
      ],
      "source": [
        "import time\n",
        "\n",
        "# 현재 탭 핸들 저장\n",
        "current_tab = driver.current_window_handle\n",
        "print(current_tab)\n",
        "\n",
        "# 모든 탭 핸들 가져오기\n",
        "all_tabs = driver.window_handles\n",
        "print(all_tabs)\n",
        "\n",
        "# 새로운 탭으로 전환\n",
        "for tab in all_tabs:\n",
        "    if tab != current_tab:\n",
        "        driver.switch_to.window(tab)\n",
        "        break\n",
        "\n",
        "# 새로운 탭에서 URL 가져오기\n",
        "time.sleep(2)  # 페이지 로딩 대기\n",
        "current_url = driver.current_url\n",
        "print(\"새로운 탭의 URL:\", current_url)"
      ]
    },
    {
      "cell_type": "markdown",
      "source": [
        "2.1 검색 후 결과"
      ],
      "metadata": {
        "id": "8sBeiV9EjMv6"
      }
    },
    {
      "cell_type": "code",
      "execution_count": null,
      "metadata": {
        "id": "eSwUfW6fi_ze",
        "outputId": "f343b95e-5635-424a-8e56-3ffb71222785"
      },
      "outputs": [
        {
          "name": "stdout",
          "output_type": "stream",
          "text": [
            "[포토]김설희, 패션모델부문 인기상\n"
          ]
        }
      ],
      "source": [
        "## 검색결과 창에서 정보가져오기\n",
        "# //*[@id=\"sp_nws1\"]/div[1]/div/div[2]/a[2]\n",
        "\n",
        "path = '//*[@id=\"sp_nws1\"]/div[1]/div/div[2]/a[2]'\n",
        "sel_xpath = driver.find_element(By.XPATH, path)\n",
        "print(sel_xpath.text)"
      ]
    },
    {
      "cell_type": "markdown",
      "metadata": {
        "id": "at8bmcf7i_ze"
      },
      "source": [
        "**3. CNN (edition.cnn.com)에서 \"Artificial Intelligence\" 검색 결과에서 기사 제목과 링크 5개 가져오기**"
      ]
    },
    {
      "cell_type": "code",
      "execution_count": null,
      "metadata": {
        "id": "flIcfpMci_ze"
      },
      "outputs": [],
      "source": [
        "from selenium import webdriver\n",
        "from selenium.webdriver.common.by import By\n",
        "\n",
        "#url = 'https://edition.cnn.com/'\n",
        "url = 'https://edition.cnn.com/search?q=&from=0&size=10&page=1&sort=newest&types=all&section='\n",
        "\n",
        "# 웹 드라이버를 사용하여 지정된 URL로 이동합니다.\n",
        "driver.get(url)"
      ]
    },
    {
      "cell_type": "code",
      "execution_count": null,
      "metadata": {
        "id": "SYhYkD5qi_ze",
        "outputId": "2eb5c169-2a9d-4234-abfe-04a83780492b"
      },
      "outputs": [
        {
          "name": "stdout",
          "output_type": "stream",
          "text": [
            "input\n",
            "\n",
            "button\n",
            "\n"
          ]
        }
      ],
      "source": [
        "from selenium.webdriver.common.by import By\n",
        "\n",
        "# 검색 아이콘 요소 찾기\n",
        "# /html/body/section/header/div[1]/div/div/div[2]/div[3]/a\n",
        "# //*[@id=\"headerMenuIcon\"]/svg\n",
        "# //*[@id=\"headerMenuIcon\"]/svg/path\n",
        "# search_icon = driver.find_element(By.XPATH, '//*[@id=\"headerMenuIcon\"]/svg/path')\n",
        "# print(search_icon.tag_name)\n",
        "# print(search_icon.text)\n",
        "# search_icon.click()\n",
        "\n",
        "# 검색창 요소 찾기\n",
        "# //*[@id=\"u_hs\"]/div/div/input\n",
        "# //*[@id=\"pageHeader\"]/div/div/div[2]/div/div[1]/form/input\n",
        "# //*[@id=\"search\"]/div[1]/div[1]/input\n",
        "search_input = driver.find_element(By.XPATH, '//*[@id=\"search\"]/div[1]/div[1]/input')\n",
        "print(search_input.tag_name)\n",
        "print(search_input.text)\n",
        "\n",
        "# 검색 버튼 요소 찾기\n",
        "# //*[@id=\"u_hs\"]/div/div/button[2]\n",
        "# //*[@id=\"pageHeader\"]/div/div/div[2]/div/div[1]/form/button\n",
        "# //*[@id=\"search\"]/div[1]/div[1]/button[2]\n",
        "search_button = driver.find_element(By.XPATH, '//*[@id=\"search\"]/div[1]/div[1]/button[2]')\n",
        "print(search_button.tag_name)\n",
        "print(search_button.text)\n",
        "\n",
        "# 검색어 입력 및 검색 실행\n",
        "search_input.send_keys(\"Artificial Intelligence\")\n",
        "search_button.click()"
      ]
    },
    {
      "cell_type": "code",
      "execution_count": null,
      "metadata": {
        "id": "NjnxOlTxi_zf",
        "outputId": "277546c8-f37b-44c1-fbbf-0a3e91af710c"
      },
      "outputs": [
        {
          "name": "stdout",
          "output_type": "stream",
          "text": [
            "BE34C1F2EFED0BA0E6346BC5D2FBBBE9\n",
            "['BE34C1F2EFED0BA0E6346BC5D2FBBBE9']\n",
            "새로운 탭의 URL: https://edition.cnn.com/search?q=Artificial+Intelligence&from=0&size=10&page=1&sort=newest&types=all&section=\n"
          ]
        }
      ],
      "source": [
        "import time\n",
        "\n",
        "# 현재 탭 핸들 저장\n",
        "current_tab = driver.current_window_handle\n",
        "print(current_tab)\n",
        "\n",
        "# 모든 탭 핸들 가져오기\n",
        "all_tabs = driver.window_handles\n",
        "print(all_tabs)\n",
        "\n",
        "# 새로운 탭으로 전환\n",
        "for tab in all_tabs:\n",
        "    if tab != current_tab:\n",
        "        driver.switch_to.window(tab)\n",
        "        break\n",
        "\n",
        "# 새로운 탭에서 URL 가져오기\n",
        "time.sleep(2)  # 페이지 로딩 대기\n",
        "current_url = driver.current_url\n",
        "print(\"새로운 탭의 URL:\", current_url)"
      ]
    },
    {
      "cell_type": "code",
      "execution_count": null,
      "metadata": {
        "id": "sDQkstcoi_zf",
        "outputId": "0206232d-f841-4ec0-c398-e03f0102ccd7"
      },
      "outputs": [
        {
          "name": "stdout",
          "output_type": "stream",
          "text": [
            "Apple wants its AI iPhone to turn around a sales rut. Here’s how it’s going so far\n"
          ]
        }
      ],
      "source": [
        "## 검색결과 창에서 정보가져오기\n",
        "# //*[@id=\"sp_nws1\"]/div[1]/div/div[2]/a[2]\n",
        "\n",
        "#path = '//*[@id=\"sp_nws1\"]/div[1]/div/div[2]/a[2]'\n",
        "path = '//*[@id=\"search\"]/div[2]/div/div[2]/div/div[2]/div/div/div[1]/a[2]/div/div[1]/span'\n",
        "sel_xpath = driver.find_element(By.XPATH, path)\n",
        "print(sel_xpath.text)"
      ]
    },
    {
      "cell_type": "markdown",
      "source": [
        "3.1 기사 제목 가져오기"
      ],
      "metadata": {
        "id": "bIj9RpMhjQtL"
      }
    },
    {
      "cell_type": "code",
      "execution_count": null,
      "metadata": {
        "id": "hDuKo5CYi_zf",
        "outputId": "aaa88670-d90a-4e4d-db06-7fe21f532b20"
      },
      "outputs": [
        {
          "name": "stdout",
          "output_type": "stream",
          "text": [
            "기사 1: Apple wants its AI iPhone to turn around a sales rut. Here’s how it’s going so far\n",
            "기사 2: Apple debuted AI on the iPhone today. Here’s what to look out for\n",
            "기사 3: Welcome to the ‘show me the money’ quarter\n",
            "기사 4: Painting by AI robot Ai-Da could fetch more than $120,000 at auction\n",
            "기사 5: Biden makes clear AI can’t launch nukes as he looks to harness new technology’s power\n"
          ]
        }
      ],
      "source": [
        "# Define a more general XPath pattern for all article titles\n",
        "# This XPath should capture all articles, not just one\n",
        "path = '//*[@id=\"search\"]/div[2]/div/div[2]//a[2]/div/div[1]/span'\n",
        "\n",
        "# Get all elements that match the XPath for article titles\n",
        "article_elements = driver.find_elements(By.XPATH, path)\n",
        "\n",
        "# Print the text of the first 5 articles, if available\n",
        "for i, article in enumerate(article_elements[:5]):  # Limit to first 5 articles\n",
        "    print(f\"기사 {i + 1}: {article.text}\")\n"
      ]
    },
    {
      "cell_type": "markdown",
      "source": [
        "3.2 URL 추가해서 가져오기"
      ],
      "metadata": {
        "id": "i4CIgZZejPXB"
      }
    },
    {
      "cell_type": "code",
      "execution_count": null,
      "metadata": {
        "id": "FzVGhDsOi_zf",
        "outputId": "1f0927a5-ea50-492e-8de9-433d1b115020"
      },
      "outputs": [
        {
          "name": "stdout",
          "output_type": "stream",
          "text": [
            "기사 1: Apple wants its AI iPhone to turn around a sales rut. Here’s how it’s going so far\n",
            "URL: https://www.cnn.com/2024/10/31/tech/iphone-16-ai-early-sales-numbers-earnings/index.html\n",
            "\n",
            "기사 2: Apple debuted AI on the iPhone today. Here’s what to look out for\n",
            "URL: https://www.cnn.com/2024/10/28/tech/apple-iphone-ai/index.html\n",
            "\n",
            "기사 3: Welcome to the ‘show me the money’ quarter\n",
            "URL: https://www.cnn.com/2024/10/26/investing/q3-earnings-ai-tech/index.html\n",
            "\n",
            "기사 4: Painting by AI robot Ai-Da could fetch more than $120,000 at auction\n",
            "URL: https://www.cnn.com/2024/10/24/style/ai-da-ai-robot-painting-auction-sothebys-intl-scli-tan/index.html\n",
            "\n",
            "기사 5: Biden makes clear AI can’t launch nukes as he looks to harness new technology’s power\n",
            "URL: https://www.cnn.com/2024/10/24/politics/joe-biden-artificial-intelligence-nuclear-weapons/index.html\n",
            "\n"
          ]
        }
      ],
      "source": [
        "# Define a more general XPath pattern for all article link elements\n",
        "# 모든 기사 링크 요소에 대한 일반 XPath 패턴 정의\n",
        "# Adjust this if necessary based on CNN's structure.\n",
        "# CNN의 구조에 따라 필요에 따라 수정\n",
        "\n",
        "path = '//*[@id=\"search\"]/div[2]/div/div[2]//a[2]'\n",
        "\n",
        "# Get all elements that match the XPath for article links\n",
        "# 기사 링크에 대한 XPath와 일치하는 모든 요소 가져오기\n",
        "article_elements = driver.find_elements(By.XPATH, path)\n",
        "\n",
        "# Print the text and URL of the first 5 articles, if available\n",
        "# 사용 가능한 경우 첫 5개의 기사 제목 및 URL 출력\n",
        "for i, article in enumerate(article_elements[:5]):  # Limit to first 5 articles (첫 5개의 기사로 제한)\n",
        "    title = article.find_element(By.XPATH, './div/div[1]/span').text  # Get the title text (제목 텍스트 가져오기)\n",
        "    url = article.get_attribute('href')  # Get the URL (URL 가져오기)\n",
        "    print(f\"기사 {i + 1}: {title}\")  # Print article title (기사 제목 출력)\n",
        "    print(f\"URL: {url}\\n\")  # Print article URL (기사 URL 출력)"
      ]
    }
  ],
  "metadata": {
    "kernelspec": {
      "display_name": "base",
      "language": "python",
      "name": "python3"
    },
    "language_info": {
      "codemirror_mode": {
        "name": "ipython",
        "version": 3
      },
      "file_extension": ".py",
      "mimetype": "text/x-python",
      "name": "python",
      "nbconvert_exporter": "python",
      "pygments_lexer": "ipython3",
      "version": "3.12.4"
    },
    "colab": {
      "provenance": [],
      "include_colab_link": true
    }
  },
  "nbformat": 4,
  "nbformat_minor": 0
}