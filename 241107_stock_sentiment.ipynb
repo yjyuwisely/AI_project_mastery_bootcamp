{
  "nbformat": 4,
  "nbformat_minor": 0,
  "metadata": {
    "colab": {
      "provenance": [],
      "authorship_tag": "ABX9TyN8PwiXBJFQTYZhIUExvY6H",
      "include_colab_link": true
    },
    "kernelspec": {
      "name": "python3",
      "display_name": "Python 3"
    },
    "language_info": {
      "name": "python"
    },
    "widgets": {
      "application/vnd.jupyter.widget-state+json": {
        "eeb7c876644f479cb53cb0d2dc50fda5": {
          "model_module": "@jupyter-widgets/controls",
          "model_name": "TextModel",
          "model_module_version": "1.5.0",
          "state": {
            "_dom_classes": [],
            "_model_module": "@jupyter-widgets/controls",
            "_model_module_version": "1.5.0",
            "_model_name": "TextModel",
            "_view_count": null,
            "_view_module": "@jupyter-widgets/controls",
            "_view_module_version": "1.5.0",
            "_view_name": "TextView",
            "continuous_update": true,
            "description": "종목명:",
            "description_tooltip": null,
            "disabled": false,
            "layout": "IPY_MODEL_f870f020d27041c997dbedbc1708663e",
            "placeholder": "종목명을 입력하세요.",
            "style": "IPY_MODEL_7730d6aff5fd4b29ae3dc080ae74757d",
            "value": "SKIET"
          }
        },
        "f870f020d27041c997dbedbc1708663e": {
          "model_module": "@jupyter-widgets/base",
          "model_name": "LayoutModel",
          "model_module_version": "1.2.0",
          "state": {
            "_model_module": "@jupyter-widgets/base",
            "_model_module_version": "1.2.0",
            "_model_name": "LayoutModel",
            "_view_count": null,
            "_view_module": "@jupyter-widgets/base",
            "_view_module_version": "1.2.0",
            "_view_name": "LayoutView",
            "align_content": null,
            "align_items": null,
            "align_self": null,
            "border": null,
            "bottom": null,
            "display": null,
            "flex": null,
            "flex_flow": null,
            "grid_area": null,
            "grid_auto_columns": null,
            "grid_auto_flow": null,
            "grid_auto_rows": null,
            "grid_column": null,
            "grid_gap": null,
            "grid_row": null,
            "grid_template_areas": null,
            "grid_template_columns": null,
            "grid_template_rows": null,
            "height": null,
            "justify_content": null,
            "justify_items": null,
            "left": null,
            "margin": null,
            "max_height": null,
            "max_width": null,
            "min_height": null,
            "min_width": null,
            "object_fit": null,
            "object_position": null,
            "order": null,
            "overflow": null,
            "overflow_x": null,
            "overflow_y": null,
            "padding": null,
            "right": null,
            "top": null,
            "visibility": null,
            "width": null
          }
        },
        "7730d6aff5fd4b29ae3dc080ae74757d": {
          "model_module": "@jupyter-widgets/controls",
          "model_name": "DescriptionStyleModel",
          "model_module_version": "1.5.0",
          "state": {
            "_model_module": "@jupyter-widgets/controls",
            "_model_module_version": "1.5.0",
            "_model_name": "DescriptionStyleModel",
            "_view_count": null,
            "_view_module": "@jupyter-widgets/base",
            "_view_module_version": "1.2.0",
            "_view_name": "StyleView",
            "description_width": ""
          }
        },
        "d09932aa5f5a4a88b9ac925b608f3381": {
          "model_module": "@jupyter-widgets/controls",
          "model_name": "ButtonModel",
          "model_module_version": "1.5.0",
          "state": {
            "_dom_classes": [],
            "_model_module": "@jupyter-widgets/controls",
            "_model_module_version": "1.5.0",
            "_model_name": "ButtonModel",
            "_view_count": null,
            "_view_module": "@jupyter-widgets/controls",
            "_view_module_version": "1.5.0",
            "_view_name": "ButtonView",
            "button_style": "",
            "description": "추천 받기",
            "disabled": false,
            "icon": "",
            "layout": "IPY_MODEL_535953fd15744177b172a76ff173ff97",
            "style": "IPY_MODEL_9bcf7cbf823f46fbb878f5d200d2d4d9",
            "tooltip": ""
          }
        },
        "535953fd15744177b172a76ff173ff97": {
          "model_module": "@jupyter-widgets/base",
          "model_name": "LayoutModel",
          "model_module_version": "1.2.0",
          "state": {
            "_model_module": "@jupyter-widgets/base",
            "_model_module_version": "1.2.0",
            "_model_name": "LayoutModel",
            "_view_count": null,
            "_view_module": "@jupyter-widgets/base",
            "_view_module_version": "1.2.0",
            "_view_name": "LayoutView",
            "align_content": null,
            "align_items": null,
            "align_self": null,
            "border": null,
            "bottom": null,
            "display": null,
            "flex": null,
            "flex_flow": null,
            "grid_area": null,
            "grid_auto_columns": null,
            "grid_auto_flow": null,
            "grid_auto_rows": null,
            "grid_column": null,
            "grid_gap": null,
            "grid_row": null,
            "grid_template_areas": null,
            "grid_template_columns": null,
            "grid_template_rows": null,
            "height": null,
            "justify_content": null,
            "justify_items": null,
            "left": null,
            "margin": null,
            "max_height": null,
            "max_width": null,
            "min_height": null,
            "min_width": null,
            "object_fit": null,
            "object_position": null,
            "order": null,
            "overflow": null,
            "overflow_x": null,
            "overflow_y": null,
            "padding": null,
            "right": null,
            "top": null,
            "visibility": null,
            "width": null
          }
        },
        "9bcf7cbf823f46fbb878f5d200d2d4d9": {
          "model_module": "@jupyter-widgets/controls",
          "model_name": "ButtonStyleModel",
          "model_module_version": "1.5.0",
          "state": {
            "_model_module": "@jupyter-widgets/controls",
            "_model_module_version": "1.5.0",
            "_model_name": "ButtonStyleModel",
            "_view_count": null,
            "_view_module": "@jupyter-widgets/base",
            "_view_module_version": "1.2.0",
            "_view_name": "StyleView",
            "button_color": null,
            "font_weight": ""
          }
        },
        "e6082a47ca5e446b800bfeb0b8be791c": {
          "model_module": "@jupyter-widgets/output",
          "model_name": "OutputModel",
          "model_module_version": "1.0.0",
          "state": {
            "_dom_classes": [],
            "_model_module": "@jupyter-widgets/output",
            "_model_module_version": "1.0.0",
            "_model_name": "OutputModel",
            "_view_count": null,
            "_view_module": "@jupyter-widgets/output",
            "_view_module_version": "1.0.0",
            "_view_name": "OutputView",
            "layout": "IPY_MODEL_5eb2219865a44a91999fb59145e7e52a",
            "msg_id": "",
            "outputs": [
              {
                "output_type": "stream",
                "name": "stderr",
                "text": [
                  "No model was supplied, defaulted to distilbert/distilbert-base-uncased-finetuned-sst-2-english and revision af0f99b (https://huggingface.co/distilbert/distilbert-base-uncased-finetuned-sst-2-english).\n",
                  "Using a pipeline without specifying a model name and revision in production is not recommended.\n"
                ]
              },
              {
                "output_type": "stream",
                "name": "stdout",
                "text": [
                  "SKIET에 대한 상위 10개의 뉴스 헤드라인:\n",
                  "😊 [특징주]SK아이이테크놀로지, 적자전환에 급락\n",
                  "😰 KB證 “SKIET, 수요 부진에 적자 불가피…목표가 16% 하향”\n",
                  "😰 NH투자 \"SKIET, 새 고객 증대 기대…목표가↓\"\n",
                  "😰 [특징주]SKIET, 적자 지속에 6%대↓\n",
                  "\n",
                  "SKIET을(를) 매수하지 마세요 😰\n"
                ]
              }
            ]
          }
        },
        "5eb2219865a44a91999fb59145e7e52a": {
          "model_module": "@jupyter-widgets/base",
          "model_name": "LayoutModel",
          "model_module_version": "1.2.0",
          "state": {
            "_model_module": "@jupyter-widgets/base",
            "_model_module_version": "1.2.0",
            "_model_name": "LayoutModel",
            "_view_count": null,
            "_view_module": "@jupyter-widgets/base",
            "_view_module_version": "1.2.0",
            "_view_name": "LayoutView",
            "align_content": null,
            "align_items": null,
            "align_self": null,
            "border": null,
            "bottom": null,
            "display": null,
            "flex": null,
            "flex_flow": null,
            "grid_area": null,
            "grid_auto_columns": null,
            "grid_auto_flow": null,
            "grid_auto_rows": null,
            "grid_column": null,
            "grid_gap": null,
            "grid_row": null,
            "grid_template_areas": null,
            "grid_template_columns": null,
            "grid_template_rows": null,
            "height": null,
            "justify_content": null,
            "justify_items": null,
            "left": null,
            "margin": null,
            "max_height": null,
            "max_width": null,
            "min_height": null,
            "min_width": null,
            "object_fit": null,
            "object_position": null,
            "order": null,
            "overflow": null,
            "overflow_x": null,
            "overflow_y": null,
            "padding": null,
            "right": null,
            "top": null,
            "visibility": null,
            "width": null
          }
        },
        "9f24d62b8b3c4e4a9ad33e8d8689eaef": {
          "model_module": "@jupyter-widgets/controls",
          "model_name": "TextModel",
          "model_module_version": "1.5.0",
          "state": {
            "_dom_classes": [],
            "_model_module": "@jupyter-widgets/controls",
            "_model_module_version": "1.5.0",
            "_model_name": "TextModel",
            "_view_count": null,
            "_view_module": "@jupyter-widgets/controls",
            "_view_module_version": "1.5.0",
            "_view_name": "TextView",
            "continuous_update": true,
            "description": "Stock Name:",
            "description_tooltip": null,
            "disabled": false,
            "layout": "IPY_MODEL_88446d14948a457ba25e570f63c4fad4",
            "placeholder": "Enter a stock name (e.g., 삼성전자)",
            "style": "IPY_MODEL_89c2fa5e84694b00bd2b54eac889a852",
            "value": "SKIET"
          }
        },
        "88446d14948a457ba25e570f63c4fad4": {
          "model_module": "@jupyter-widgets/base",
          "model_name": "LayoutModel",
          "model_module_version": "1.2.0",
          "state": {
            "_model_module": "@jupyter-widgets/base",
            "_model_module_version": "1.2.0",
            "_model_name": "LayoutModel",
            "_view_count": null,
            "_view_module": "@jupyter-widgets/base",
            "_view_module_version": "1.2.0",
            "_view_name": "LayoutView",
            "align_content": null,
            "align_items": null,
            "align_self": null,
            "border": null,
            "bottom": null,
            "display": null,
            "flex": null,
            "flex_flow": null,
            "grid_area": null,
            "grid_auto_columns": null,
            "grid_auto_flow": null,
            "grid_auto_rows": null,
            "grid_column": null,
            "grid_gap": null,
            "grid_row": null,
            "grid_template_areas": null,
            "grid_template_columns": null,
            "grid_template_rows": null,
            "height": null,
            "justify_content": null,
            "justify_items": null,
            "left": null,
            "margin": null,
            "max_height": null,
            "max_width": null,
            "min_height": null,
            "min_width": null,
            "object_fit": null,
            "object_position": null,
            "order": null,
            "overflow": null,
            "overflow_x": null,
            "overflow_y": null,
            "padding": null,
            "right": null,
            "top": null,
            "visibility": null,
            "width": null
          }
        },
        "89c2fa5e84694b00bd2b54eac889a852": {
          "model_module": "@jupyter-widgets/controls",
          "model_name": "DescriptionStyleModel",
          "model_module_version": "1.5.0",
          "state": {
            "_model_module": "@jupyter-widgets/controls",
            "_model_module_version": "1.5.0",
            "_model_name": "DescriptionStyleModel",
            "_view_count": null,
            "_view_module": "@jupyter-widgets/base",
            "_view_module_version": "1.2.0",
            "_view_name": "StyleView",
            "description_width": ""
          }
        },
        "267b96fcfc7248ce82c7ce4a552cb060": {
          "model_module": "@jupyter-widgets/controls",
          "model_name": "ButtonModel",
          "model_module_version": "1.5.0",
          "state": {
            "_dom_classes": [],
            "_model_module": "@jupyter-widgets/controls",
            "_model_module_version": "1.5.0",
            "_model_name": "ButtonModel",
            "_view_count": null,
            "_view_module": "@jupyter-widgets/controls",
            "_view_module_version": "1.5.0",
            "_view_name": "ButtonView",
            "button_style": "",
            "description": "Get Recommendation",
            "disabled": false,
            "icon": "",
            "layout": "IPY_MODEL_7e4f347a821f4372afa44953bd440800",
            "style": "IPY_MODEL_5253db22a4ef447ca2bdeeebdb6614e6",
            "tooltip": ""
          }
        },
        "7e4f347a821f4372afa44953bd440800": {
          "model_module": "@jupyter-widgets/base",
          "model_name": "LayoutModel",
          "model_module_version": "1.2.0",
          "state": {
            "_model_module": "@jupyter-widgets/base",
            "_model_module_version": "1.2.0",
            "_model_name": "LayoutModel",
            "_view_count": null,
            "_view_module": "@jupyter-widgets/base",
            "_view_module_version": "1.2.0",
            "_view_name": "LayoutView",
            "align_content": null,
            "align_items": null,
            "align_self": null,
            "border": null,
            "bottom": null,
            "display": null,
            "flex": null,
            "flex_flow": null,
            "grid_area": null,
            "grid_auto_columns": null,
            "grid_auto_flow": null,
            "grid_auto_rows": null,
            "grid_column": null,
            "grid_gap": null,
            "grid_row": null,
            "grid_template_areas": null,
            "grid_template_columns": null,
            "grid_template_rows": null,
            "height": null,
            "justify_content": null,
            "justify_items": null,
            "left": null,
            "margin": null,
            "max_height": null,
            "max_width": null,
            "min_height": null,
            "min_width": null,
            "object_fit": null,
            "object_position": null,
            "order": null,
            "overflow": null,
            "overflow_x": null,
            "overflow_y": null,
            "padding": null,
            "right": null,
            "top": null,
            "visibility": null,
            "width": null
          }
        },
        "5253db22a4ef447ca2bdeeebdb6614e6": {
          "model_module": "@jupyter-widgets/controls",
          "model_name": "ButtonStyleModel",
          "model_module_version": "1.5.0",
          "state": {
            "_model_module": "@jupyter-widgets/controls",
            "_model_module_version": "1.5.0",
            "_model_name": "ButtonStyleModel",
            "_view_count": null,
            "_view_module": "@jupyter-widgets/base",
            "_view_module_version": "1.2.0",
            "_view_name": "StyleView",
            "button_color": null,
            "font_weight": ""
          }
        },
        "cc81c5ed7c10403c8275282e66317bcc": {
          "model_module": "@jupyter-widgets/output",
          "model_name": "OutputModel",
          "model_module_version": "1.0.0",
          "state": {
            "_dom_classes": [],
            "_model_module": "@jupyter-widgets/output",
            "_model_module_version": "1.0.0",
            "_model_name": "OutputModel",
            "_view_count": null,
            "_view_module": "@jupyter-widgets/output",
            "_view_module_version": "1.0.0",
            "_view_name": "OutputView",
            "layout": "IPY_MODEL_374403de6f774335969009052bc4feeb",
            "msg_id": "",
            "outputs": [
              {
                "output_type": "stream",
                "name": "stderr",
                "text": [
                  "No model was supplied, defaulted to distilbert/distilbert-base-uncased-finetuned-sst-2-english and revision af0f99b (https://huggingface.co/distilbert/distilbert-base-uncased-finetuned-sst-2-english).\n",
                  "Using a pipeline without specifying a model name and revision in production is not recommended.\n"
                ]
              },
              {
                "output_type": "stream",
                "name": "stdout",
                "text": [
                  "Top 10 news headlines for 넷마블:\n",
                  "😊 넷마블, 나혼렙부터 아스달까지…돈줄 이어진다\n",
                  "😊 [종합] 3분기 흑자 기록한 넷마블…지스타에서 '한방' 예고\n",
                  "😊 넷마블, 3분기 영업익 655억…흑자전환\n",
                  "😊 넷마블, 3분기 영업익 655억...전년比 흑자전환\n",
                  "\n",
                  "Buy 넷마블 😊\n"
                ]
              },
              {
                "output_type": "stream",
                "name": "stderr",
                "text": [
                  "No model was supplied, defaulted to distilbert/distilbert-base-uncased-finetuned-sst-2-english and revision af0f99b (https://huggingface.co/distilbert/distilbert-base-uncased-finetuned-sst-2-english).\n",
                  "Using a pipeline without specifying a model name and revision in production is not recommended.\n"
                ]
              },
              {
                "output_type": "stream",
                "name": "stdout",
                "text": [
                  "Top 10 news headlines for SKIET:\n",
                  "😊 [특징주]SK아이이테크놀로지, 적자전환에 급락\n",
                  "😰 KB證 “SKIET, 수요 부진에 적자 불가피…목표가 16% 하향”\n",
                  "😰 NH투자 \"SKIET, 새 고객 증대 기대…목표가↓\"\n",
                  "😰 [특징주]SKIET, 적자 지속에 6%대↓\n",
                  "\n",
                  "Don't buy SKIET 😰\n"
                ]
              }
            ]
          }
        },
        "374403de6f774335969009052bc4feeb": {
          "model_module": "@jupyter-widgets/base",
          "model_name": "LayoutModel",
          "model_module_version": "1.2.0",
          "state": {
            "_model_module": "@jupyter-widgets/base",
            "_model_module_version": "1.2.0",
            "_model_name": "LayoutModel",
            "_view_count": null,
            "_view_module": "@jupyter-widgets/base",
            "_view_module_version": "1.2.0",
            "_view_name": "LayoutView",
            "align_content": null,
            "align_items": null,
            "align_self": null,
            "border": null,
            "bottom": null,
            "display": null,
            "flex": null,
            "flex_flow": null,
            "grid_area": null,
            "grid_auto_columns": null,
            "grid_auto_flow": null,
            "grid_auto_rows": null,
            "grid_column": null,
            "grid_gap": null,
            "grid_row": null,
            "grid_template_areas": null,
            "grid_template_columns": null,
            "grid_template_rows": null,
            "height": null,
            "justify_content": null,
            "justify_items": null,
            "left": null,
            "margin": null,
            "max_height": null,
            "max_width": null,
            "min_height": null,
            "min_width": null,
            "object_fit": null,
            "object_position": null,
            "order": null,
            "overflow": null,
            "overflow_x": null,
            "overflow_y": null,
            "padding": null,
            "right": null,
            "top": null,
            "visibility": null,
            "width": null
          }
        },
        "9e8199e1c9c941c0877939af826a6b6b": {
          "model_module": "@jupyter-widgets/controls",
          "model_name": "TextModel",
          "model_module_version": "1.5.0",
          "state": {
            "_dom_classes": [],
            "_model_module": "@jupyter-widgets/controls",
            "_model_module_version": "1.5.0",
            "_model_name": "TextModel",
            "_view_count": null,
            "_view_module": "@jupyter-widgets/controls",
            "_view_module_version": "1.5.0",
            "_view_name": "TextView",
            "continuous_update": true,
            "description": "Stock Name:",
            "description_tooltip": null,
            "disabled": false,
            "layout": "IPY_MODEL_170553265e504cbb9ed55a0e1c5354a1",
            "placeholder": "Enter a stock name (e.g., 삼성전자)",
            "style": "IPY_MODEL_588502b7c4b349338ae260fdda848abf",
            "value": "SKIET"
          }
        },
        "170553265e504cbb9ed55a0e1c5354a1": {
          "model_module": "@jupyter-widgets/base",
          "model_name": "LayoutModel",
          "model_module_version": "1.2.0",
          "state": {
            "_model_module": "@jupyter-widgets/base",
            "_model_module_version": "1.2.0",
            "_model_name": "LayoutModel",
            "_view_count": null,
            "_view_module": "@jupyter-widgets/base",
            "_view_module_version": "1.2.0",
            "_view_name": "LayoutView",
            "align_content": null,
            "align_items": null,
            "align_self": null,
            "border": null,
            "bottom": null,
            "display": null,
            "flex": null,
            "flex_flow": null,
            "grid_area": null,
            "grid_auto_columns": null,
            "grid_auto_flow": null,
            "grid_auto_rows": null,
            "grid_column": null,
            "grid_gap": null,
            "grid_row": null,
            "grid_template_areas": null,
            "grid_template_columns": null,
            "grid_template_rows": null,
            "height": null,
            "justify_content": null,
            "justify_items": null,
            "left": null,
            "margin": null,
            "max_height": null,
            "max_width": null,
            "min_height": null,
            "min_width": null,
            "object_fit": null,
            "object_position": null,
            "order": null,
            "overflow": null,
            "overflow_x": null,
            "overflow_y": null,
            "padding": null,
            "right": null,
            "top": null,
            "visibility": null,
            "width": null
          }
        },
        "588502b7c4b349338ae260fdda848abf": {
          "model_module": "@jupyter-widgets/controls",
          "model_name": "DescriptionStyleModel",
          "model_module_version": "1.5.0",
          "state": {
            "_model_module": "@jupyter-widgets/controls",
            "_model_module_version": "1.5.0",
            "_model_name": "DescriptionStyleModel",
            "_view_count": null,
            "_view_module": "@jupyter-widgets/base",
            "_view_module_version": "1.2.0",
            "_view_name": "StyleView",
            "description_width": ""
          }
        },
        "eefebd60a2fa4643a3c2ab2dc4955913": {
          "model_module": "@jupyter-widgets/controls",
          "model_name": "ButtonModel",
          "model_module_version": "1.5.0",
          "state": {
            "_dom_classes": [],
            "_model_module": "@jupyter-widgets/controls",
            "_model_module_version": "1.5.0",
            "_model_name": "ButtonModel",
            "_view_count": null,
            "_view_module": "@jupyter-widgets/controls",
            "_view_module_version": "1.5.0",
            "_view_name": "ButtonView",
            "button_style": "",
            "description": "Analyze Sentiment",
            "disabled": false,
            "icon": "",
            "layout": "IPY_MODEL_5807fca682c94321844ceff7dcf1ef6d",
            "style": "IPY_MODEL_ae81a011ab0b4b63a78e253709d954b7",
            "tooltip": ""
          }
        },
        "5807fca682c94321844ceff7dcf1ef6d": {
          "model_module": "@jupyter-widgets/base",
          "model_name": "LayoutModel",
          "model_module_version": "1.2.0",
          "state": {
            "_model_module": "@jupyter-widgets/base",
            "_model_module_version": "1.2.0",
            "_model_name": "LayoutModel",
            "_view_count": null,
            "_view_module": "@jupyter-widgets/base",
            "_view_module_version": "1.2.0",
            "_view_name": "LayoutView",
            "align_content": null,
            "align_items": null,
            "align_self": null,
            "border": null,
            "bottom": null,
            "display": null,
            "flex": null,
            "flex_flow": null,
            "grid_area": null,
            "grid_auto_columns": null,
            "grid_auto_flow": null,
            "grid_auto_rows": null,
            "grid_column": null,
            "grid_gap": null,
            "grid_row": null,
            "grid_template_areas": null,
            "grid_template_columns": null,
            "grid_template_rows": null,
            "height": null,
            "justify_content": null,
            "justify_items": null,
            "left": null,
            "margin": null,
            "max_height": null,
            "max_width": null,
            "min_height": null,
            "min_width": null,
            "object_fit": null,
            "object_position": null,
            "order": null,
            "overflow": null,
            "overflow_x": null,
            "overflow_y": null,
            "padding": null,
            "right": null,
            "top": null,
            "visibility": null,
            "width": null
          }
        },
        "ae81a011ab0b4b63a78e253709d954b7": {
          "model_module": "@jupyter-widgets/controls",
          "model_name": "ButtonStyleModel",
          "model_module_version": "1.5.0",
          "state": {
            "_model_module": "@jupyter-widgets/controls",
            "_model_module_version": "1.5.0",
            "_model_name": "ButtonStyleModel",
            "_view_count": null,
            "_view_module": "@jupyter-widgets/base",
            "_view_module_version": "1.2.0",
            "_view_name": "StyleView",
            "button_color": null,
            "font_weight": ""
          }
        },
        "3ae4d660f5f94091ac25e9b44483edc5": {
          "model_module": "@jupyter-widgets/output",
          "model_name": "OutputModel",
          "model_module_version": "1.0.0",
          "state": {
            "_dom_classes": [],
            "_model_module": "@jupyter-widgets/output",
            "_model_module_version": "1.0.0",
            "_model_name": "OutputModel",
            "_view_count": null,
            "_view_module": "@jupyter-widgets/output",
            "_view_module_version": "1.0.0",
            "_view_name": "OutputView",
            "layout": "IPY_MODEL_6cee2ec2319b4161992097a2b30a86bf",
            "msg_id": "",
            "outputs": [
              {
                "output_type": "stream",
                "name": "stderr",
                "text": [
                  "No model was supplied, defaulted to distilbert/distilbert-base-uncased-finetuned-sst-2-english and revision af0f99b (https://huggingface.co/distilbert/distilbert-base-uncased-finetuned-sst-2-english).\n",
                  "Using a pipeline without specifying a model name and revision in production is not recommended.\n"
                ]
              },
              {
                "output_type": "stream",
                "name": "stdout",
                "text": [
                  "Sentiment for news headlines related to 넷마블:\n",
                  "😊 넷마블, 나혼렙부터 아스달까지…돈줄 이어진다\n",
                  "😊 [종합] 3분기 흑자 기록한 넷마블…지스타에서 '한방' 예고\n",
                  "😊 넷마블, 3분기 영업익 655억…흑자전환\n",
                  "😊 넷마블, 3분기 영업익 655억...전년比 흑자전환\n"
                ]
              },
              {
                "output_type": "stream",
                "name": "stderr",
                "text": [
                  "No model was supplied, defaulted to distilbert/distilbert-base-uncased-finetuned-sst-2-english and revision af0f99b (https://huggingface.co/distilbert/distilbert-base-uncased-finetuned-sst-2-english).\n",
                  "Using a pipeline without specifying a model name and revision in production is not recommended.\n"
                ]
              },
              {
                "output_type": "stream",
                "name": "stdout",
                "text": [
                  "Sentiment for news headlines related to SKIET:\n",
                  "😊 [특징주]SK아이이테크놀로지, 적자전환에 급락\n",
                  "😰 KB證 “SKIET, 수요 부진에 적자 불가피…목표가 16% 하향”\n",
                  "😰 NH투자 \"SKIET, 새 고객 증대 기대…목표가↓\"\n",
                  "😰 [특징주]SKIET, 적자 지속에 6%대↓\n"
                ]
              }
            ]
          }
        },
        "6cee2ec2319b4161992097a2b30a86bf": {
          "model_module": "@jupyter-widgets/base",
          "model_name": "LayoutModel",
          "model_module_version": "1.2.0",
          "state": {
            "_model_module": "@jupyter-widgets/base",
            "_model_module_version": "1.2.0",
            "_model_name": "LayoutModel",
            "_view_count": null,
            "_view_module": "@jupyter-widgets/base",
            "_view_module_version": "1.2.0",
            "_view_name": "LayoutView",
            "align_content": null,
            "align_items": null,
            "align_self": null,
            "border": null,
            "bottom": null,
            "display": null,
            "flex": null,
            "flex_flow": null,
            "grid_area": null,
            "grid_auto_columns": null,
            "grid_auto_flow": null,
            "grid_auto_rows": null,
            "grid_column": null,
            "grid_gap": null,
            "grid_row": null,
            "grid_template_areas": null,
            "grid_template_columns": null,
            "grid_template_rows": null,
            "height": null,
            "justify_content": null,
            "justify_items": null,
            "left": null,
            "margin": null,
            "max_height": null,
            "max_width": null,
            "min_height": null,
            "min_width": null,
            "object_fit": null,
            "object_position": null,
            "order": null,
            "overflow": null,
            "overflow_x": null,
            "overflow_y": null,
            "padding": null,
            "right": null,
            "top": null,
            "visibility": null,
            "width": null
          }
        },
        "86468d707f0f4a64b24e12502d335e77": {
          "model_module": "@jupyter-widgets/controls",
          "model_name": "TextModel",
          "model_module_version": "1.5.0",
          "state": {
            "_dom_classes": [],
            "_model_module": "@jupyter-widgets/controls",
            "_model_module_version": "1.5.0",
            "_model_name": "TextModel",
            "_view_count": null,
            "_view_module": "@jupyter-widgets/controls",
            "_view_module_version": "1.5.0",
            "_view_name": "TextView",
            "continuous_update": true,
            "description": "Stock Name:",
            "description_tooltip": null,
            "disabled": false,
            "layout": "IPY_MODEL_93ef9c7e6b294de690ec958d4c90eb48",
            "placeholder": "Enter a stock name (e.g., 삼성전자)",
            "style": "IPY_MODEL_8f84b7058d804ce9bb20c50e21742f4c",
            "value": "넷마블"
          }
        },
        "93ef9c7e6b294de690ec958d4c90eb48": {
          "model_module": "@jupyter-widgets/base",
          "model_name": "LayoutModel",
          "model_module_version": "1.2.0",
          "state": {
            "_model_module": "@jupyter-widgets/base",
            "_model_module_version": "1.2.0",
            "_model_name": "LayoutModel",
            "_view_count": null,
            "_view_module": "@jupyter-widgets/base",
            "_view_module_version": "1.2.0",
            "_view_name": "LayoutView",
            "align_content": null,
            "align_items": null,
            "align_self": null,
            "border": null,
            "bottom": null,
            "display": null,
            "flex": null,
            "flex_flow": null,
            "grid_area": null,
            "grid_auto_columns": null,
            "grid_auto_flow": null,
            "grid_auto_rows": null,
            "grid_column": null,
            "grid_gap": null,
            "grid_row": null,
            "grid_template_areas": null,
            "grid_template_columns": null,
            "grid_template_rows": null,
            "height": null,
            "justify_content": null,
            "justify_items": null,
            "left": null,
            "margin": null,
            "max_height": null,
            "max_width": null,
            "min_height": null,
            "min_width": null,
            "object_fit": null,
            "object_position": null,
            "order": null,
            "overflow": null,
            "overflow_x": null,
            "overflow_y": null,
            "padding": null,
            "right": null,
            "top": null,
            "visibility": null,
            "width": null
          }
        },
        "8f84b7058d804ce9bb20c50e21742f4c": {
          "model_module": "@jupyter-widgets/controls",
          "model_name": "DescriptionStyleModel",
          "model_module_version": "1.5.0",
          "state": {
            "_model_module": "@jupyter-widgets/controls",
            "_model_module_version": "1.5.0",
            "_model_name": "DescriptionStyleModel",
            "_view_count": null,
            "_view_module": "@jupyter-widgets/base",
            "_view_module_version": "1.2.0",
            "_view_name": "StyleView",
            "description_width": ""
          }
        },
        "9fd0fcdf4e914de2a9089c007a569529": {
          "model_module": "@jupyter-widgets/controls",
          "model_name": "ButtonModel",
          "model_module_version": "1.5.0",
          "state": {
            "_dom_classes": [],
            "_model_module": "@jupyter-widgets/controls",
            "_model_module_version": "1.5.0",
            "_model_name": "ButtonModel",
            "_view_count": null,
            "_view_module": "@jupyter-widgets/controls",
            "_view_module_version": "1.5.0",
            "_view_name": "ButtonView",
            "button_style": "",
            "description": "Get Recommendation",
            "disabled": false,
            "icon": "",
            "layout": "IPY_MODEL_4636e90ce503473fbba6826f0f0b9cf2",
            "style": "IPY_MODEL_a3d218cdedbf4419880714e7c73afb77",
            "tooltip": ""
          }
        },
        "4636e90ce503473fbba6826f0f0b9cf2": {
          "model_module": "@jupyter-widgets/base",
          "model_name": "LayoutModel",
          "model_module_version": "1.2.0",
          "state": {
            "_model_module": "@jupyter-widgets/base",
            "_model_module_version": "1.2.0",
            "_model_name": "LayoutModel",
            "_view_count": null,
            "_view_module": "@jupyter-widgets/base",
            "_view_module_version": "1.2.0",
            "_view_name": "LayoutView",
            "align_content": null,
            "align_items": null,
            "align_self": null,
            "border": null,
            "bottom": null,
            "display": null,
            "flex": null,
            "flex_flow": null,
            "grid_area": null,
            "grid_auto_columns": null,
            "grid_auto_flow": null,
            "grid_auto_rows": null,
            "grid_column": null,
            "grid_gap": null,
            "grid_row": null,
            "grid_template_areas": null,
            "grid_template_columns": null,
            "grid_template_rows": null,
            "height": null,
            "justify_content": null,
            "justify_items": null,
            "left": null,
            "margin": null,
            "max_height": null,
            "max_width": null,
            "min_height": null,
            "min_width": null,
            "object_fit": null,
            "object_position": null,
            "order": null,
            "overflow": null,
            "overflow_x": null,
            "overflow_y": null,
            "padding": null,
            "right": null,
            "top": null,
            "visibility": null,
            "width": null
          }
        },
        "a3d218cdedbf4419880714e7c73afb77": {
          "model_module": "@jupyter-widgets/controls",
          "model_name": "ButtonStyleModel",
          "model_module_version": "1.5.0",
          "state": {
            "_model_module": "@jupyter-widgets/controls",
            "_model_module_version": "1.5.0",
            "_model_name": "ButtonStyleModel",
            "_view_count": null,
            "_view_module": "@jupyter-widgets/base",
            "_view_module_version": "1.2.0",
            "_view_name": "StyleView",
            "button_color": null,
            "font_weight": ""
          }
        },
        "3959fe3f217343fa91c67a1ea6d9276b": {
          "model_module": "@jupyter-widgets/output",
          "model_name": "OutputModel",
          "model_module_version": "1.0.0",
          "state": {
            "_dom_classes": [],
            "_model_module": "@jupyter-widgets/output",
            "_model_module_version": "1.0.0",
            "_model_name": "OutputModel",
            "_view_count": null,
            "_view_module": "@jupyter-widgets/output",
            "_view_module_version": "1.0.0",
            "_view_name": "OutputView",
            "layout": "IPY_MODEL_02fe7e1659c0442dbb1a25395d9fb491",
            "msg_id": "",
            "outputs": [
              {
                "output_type": "stream",
                "name": "stderr",
                "text": [
                  "No model was supplied, defaulted to distilbert/distilbert-base-uncased-finetuned-sst-2-english and revision af0f99b (https://huggingface.co/distilbert/distilbert-base-uncased-finetuned-sst-2-english).\n",
                  "Using a pipeline without specifying a model name and revision in production is not recommended.\n"
                ]
              },
              {
                "output_type": "stream",
                "name": "stdout",
                "text": [
                  "Don't buy SKIET 😰\n"
                ]
              },
              {
                "output_type": "stream",
                "name": "stderr",
                "text": [
                  "No model was supplied, defaulted to distilbert/distilbert-base-uncased-finetuned-sst-2-english and revision af0f99b (https://huggingface.co/distilbert/distilbert-base-uncased-finetuned-sst-2-english).\n",
                  "Using a pipeline without specifying a model name and revision in production is not recommended.\n"
                ]
              },
              {
                "output_type": "stream",
                "name": "stdout",
                "text": [
                  "Neutral on 넷마 😐 \n"
                ]
              }
            ]
          }
        },
        "02fe7e1659c0442dbb1a25395d9fb491": {
          "model_module": "@jupyter-widgets/base",
          "model_name": "LayoutModel",
          "model_module_version": "1.2.0",
          "state": {
            "_model_module": "@jupyter-widgets/base",
            "_model_module_version": "1.2.0",
            "_model_name": "LayoutModel",
            "_view_count": null,
            "_view_module": "@jupyter-widgets/base",
            "_view_module_version": "1.2.0",
            "_view_name": "LayoutView",
            "align_content": null,
            "align_items": null,
            "align_self": null,
            "border": null,
            "bottom": null,
            "display": null,
            "flex": null,
            "flex_flow": null,
            "grid_area": null,
            "grid_auto_columns": null,
            "grid_auto_flow": null,
            "grid_auto_rows": null,
            "grid_column": null,
            "grid_gap": null,
            "grid_row": null,
            "grid_template_areas": null,
            "grid_template_columns": null,
            "grid_template_rows": null,
            "height": null,
            "justify_content": null,
            "justify_items": null,
            "left": null,
            "margin": null,
            "max_height": null,
            "max_width": null,
            "min_height": null,
            "min_width": null,
            "object_fit": null,
            "object_position": null,
            "order": null,
            "overflow": null,
            "overflow_x": null,
            "overflow_y": null,
            "padding": null,
            "right": null,
            "top": null,
            "visibility": null,
            "width": null
          }
        }
      }
    }
  },
  "cells": [
    {
      "cell_type": "markdown",
      "metadata": {
        "id": "view-in-github",
        "colab_type": "text"
      },
      "source": [
        "<a href=\"https://colab.research.google.com/github/yjyuwisely/AI_project_mastery_bootcamp/blob/main/241107_stock_sentiment.ipynb\" target=\"_parent\"><img src=\"https://colab.research.google.com/assets/colab-badge.svg\" alt=\"Open In Colab\"/></a>"
      ]
    },
    {
      "cell_type": "markdown",
      "source": [
        "**뉴스 헤드라인 감정 분석**: 최근 주식과 관련된 뉴스 기사나 소셜 미디어 데이터를 수집하여, 감정 분석을 통해 긍정적, 부정적, 중립적인 의견을 분류할 수 있어요. 이를 통해 사용자에게 최근 뉴스가 주식에 어떤 영향을 미치는지 보여줄 수 있습니다."
      ],
      "metadata": {
        "id": "Yn8PJc9xwRFk"
      }
    },
    {
      "cell_type": "markdown",
      "source": [
        "이모티콘 + 기사 + 추천 여부 알려준다."
      ],
      "metadata": {
        "id": "52oqw_NR4_UW"
      }
    },
    {
      "cell_type": "markdown",
      "source": [
        "한국어"
      ],
      "metadata": {
        "id": "wb_D4ODJ5WPw"
      }
    },
    {
      "cell_type": "code",
      "source": [
        "import requests\n",
        "from bs4 import BeautifulSoup\n",
        "from transformers import pipeline\n",
        "import ipywidgets as widgets\n",
        "\n",
        "def get_stock_buy_recommendation(stock_name):\n",
        "    \"\"\"\n",
        "    Fetch the top 10 news headlines related to the given stock, perform sentiment analysis using BERT, and provide a buy recommendation.\n",
        "    주어진 주식과 관련된 상위 10개의 뉴스 헤드라인을 가져오고, BERT를 사용하여 감정 분석을 수행한 뒤 매수 추천을 제공합니다.\n",
        "\n",
        "    Parameters:\n",
        "    stock_name (str): The name of the stock to search for\n",
        "    주식 이름 (str): 검색할 주식의 이름\n",
        "\n",
        "    Returns:\n",
        "    tuple: (list of (headline, sentiment_emoji), buy_recommendation_str)\n",
        "    튜플: (헤드라인과 감정 이모티콘의 리스트, 매수 추천 문자열)\n",
        "    \"\"\"\n",
        "    # Fetch news headlines from Naver search\n",
        "    # 네이버 검색에서 뉴스 헤드라인 가져오기\n",
        "    url = f'https://search.naver.com/search.naver?ie=utf8&sm=nws_hty&query={stock_name}'\n",
        "    response = requests.get(url)\n",
        "    soup = BeautifulSoup(response.content, 'html.parser')\n",
        "\n",
        "    # Extract the top 10 news headline text\n",
        "    # 상위 10개의 뉴스 헤드라인 텍스트 추출\n",
        "    headlines = [headline.get_text() for headline in soup.find_all('a', class_='news_tit')[:10]]\n",
        "\n",
        "    # Load the pre-trained BERT sentiment analysis model\n",
        "    # 사전 학습된 BERT 감정 분석 모델 로드\n",
        "    sentiment_analyzer = pipeline('sentiment-analysis')\n",
        "\n",
        "    # Perform sentiment analysis on each headline using BERT\n",
        "    # 각 헤드라인에 대해 BERT를 사용하여 감정 분석 수행\n",
        "    results = []\n",
        "    positive_count = 0\n",
        "    negative_count = 0\n",
        "    for headline in headlines:\n",
        "        sentiment = sentiment_analyzer(headline)[0]['label']\n",
        "\n",
        "        # Represent sentiment using emoji expressions\n",
        "        # 감정을 이모티콘으로 표현\n",
        "        if sentiment == 'POSITIVE':\n",
        "            sentiment_emoji = '😊'\n",
        "            positive_count += 1\n",
        "        elif sentiment == 'NEGATIVE':\n",
        "            sentiment_emoji = '😰'\n",
        "            negative_count += 1\n",
        "        else:\n",
        "            sentiment_emoji = '😐'\n",
        "\n",
        "        results.append((headline, sentiment_emoji))\n",
        "\n",
        "    # Determine the buy recommendation based on sentiment\n",
        "    # 감정 분석 결과에 따라 매수 추천 결정\n",
        "    if positive_count > negative_count:\n",
        "        buy_recommendation = f'{stock_name}을(를) 매수하세요 😊'\n",
        "    elif positive_count < negative_count:\n",
        "        buy_recommendation = f'{stock_name}을(를) 매수하지 마세요 😰'\n",
        "    else:\n",
        "        buy_recommendation = f'{stock_name}에 대해 중립적인 입장입니다 😐'\n",
        "\n",
        "    return results, buy_recommendation\n",
        "\n",
        "# Create a text input widget for the user to enter a stock name\n",
        "# 사용자가 주식 이름을 입력할 수 있는 텍스트 입력 위젯 생성\n",
        "stock_input = widgets.Text(\n",
        "    value='',\n",
        "    placeholder='종목명을 입력하세요.',\n",
        "    description='종목명:',\n",
        "    disabled=False\n",
        ")\n",
        "\n",
        "# Create a button to trigger the sentiment analysis and recommendation\n",
        "# 감정 분석과 추천을 실행할 버튼 생성\n",
        "analyze_button = widgets.Button(description=\"추천 받기\")\n",
        "\n",
        "# Create an output widget to display the results\n",
        "# 결과를 표시할 출력 위젯 생성\n",
        "output = widgets.Output()\n",
        "27.\n",
        "# Define a function to handle the button click\n",
        "# 버튼 클릭을 처리하는 함수 정의\n",
        "def get_recommendation(button):\n",
        "    with output:\n",
        "        output.clear_output()  # Clear previous output before displaying new results / 이전 결과를 지우고 새 결과 표시\n",
        "        stock_name = stock_input.value\n",
        "        headline_results, buy_recommendation = get_stock_buy_recommendation(stock_name)\n",
        "\n",
        "        # Display the news headlines and sentiment\n",
        "        # 뉴스 헤드라인과 감정 분석 결과 표시\n",
        "        print(f'{stock_name}에 대한 상위 10개의 뉴스 헤드라인:')\n",
        "        for headline, emoji in headline_results:\n",
        "            print(f'{emoji} {headline}')\n",
        "\n",
        "        # Display the buy recommendation\n",
        "        # 매수 추천 표시\n",
        "        print()\n",
        "        print(buy_recommendation)\n",
        "\n",
        "# Add the widgets to the Colab notebook\n",
        "# Colab 노트북에 위젯 추가\n",
        "display(stock_input, analyze_button, output)\n",
        "\n",
        "# Connect the button click to the get_recommendation function\n",
        "# 버튼 클릭을 get_recommendation 함수에 연결\n",
        "analyze_button.on_click(get_recommendation)"
      ],
      "metadata": {
        "colab": {
          "base_uri": "https://localhost:8080/",
          "height": 265,
          "referenced_widgets": [
            "eeb7c876644f479cb53cb0d2dc50fda5",
            "f870f020d27041c997dbedbc1708663e",
            "7730d6aff5fd4b29ae3dc080ae74757d",
            "d09932aa5f5a4a88b9ac925b608f3381",
            "535953fd15744177b172a76ff173ff97",
            "9bcf7cbf823f46fbb878f5d200d2d4d9",
            "e6082a47ca5e446b800bfeb0b8be791c",
            "5eb2219865a44a91999fb59145e7e52a"
          ]
        },
        "id": "2oKEq9OJ5Xkl",
        "outputId": "7a90fd8d-40ba-412d-cd78-3b2657e9a80a"
      },
      "execution_count": 36,
      "outputs": [
        {
          "output_type": "display_data",
          "data": {
            "text/plain": [
              "Text(value='', description='종목명:', placeholder='종목명을 입력하세요.')"
            ],
            "application/vnd.jupyter.widget-view+json": {
              "version_major": 2,
              "version_minor": 0,
              "model_id": "eeb7c876644f479cb53cb0d2dc50fda5"
            }
          },
          "metadata": {}
        },
        {
          "output_type": "display_data",
          "data": {
            "text/plain": [
              "Button(description='추천 받기', style=ButtonStyle())"
            ],
            "application/vnd.jupyter.widget-view+json": {
              "version_major": 2,
              "version_minor": 0,
              "model_id": "d09932aa5f5a4a88b9ac925b608f3381"
            }
          },
          "metadata": {}
        },
        {
          "output_type": "display_data",
          "data": {
            "text/plain": [
              "Output()"
            ],
            "application/vnd.jupyter.widget-view+json": {
              "version_major": 2,
              "version_minor": 0,
              "model_id": "e6082a47ca5e446b800bfeb0b8be791c"
            }
          },
          "metadata": {}
        }
      ]
    },
    {
      "cell_type": "markdown",
      "source": [
        "English"
      ],
      "metadata": {
        "id": "cL5WXRkA5VNn"
      }
    },
    {
      "cell_type": "code",
      "source": [
        "import requests\n",
        "from bs4 import BeautifulSoup\n",
        "from transformers import pipeline\n",
        "import ipywidgets as widgets\n",
        "\n",
        "def get_stock_buy_recommendation(stock_name):\n",
        "    \"\"\"\n",
        "    Fetch the top 10 news headlines related to the given stock, perform sentiment analysis using BERT, and provide a buy recommendation.\n",
        "\n",
        "    Parameters:\n",
        "    stock_name (str): The name of the stock to search for\n",
        "\n",
        "    Returns:\n",
        "    tuple: (list of (headline, sentiment_emoji), buy_recommendation_str)\n",
        "    \"\"\"\n",
        "    # Fetch news headlines from Naver search\n",
        "    url = f'https://search.naver.com/search.naver?ie=utf8&sm=nws_hty&query={stock_name}'\n",
        "    response = requests.get(url)\n",
        "    soup = BeautifulSoup(response.content, 'html.parser')\n",
        "\n",
        "    # Extract the top 10 news headline text\n",
        "    headlines = [headline.get_text() for headline in soup.find_all('a', class_='news_tit')[:10]]\n",
        "\n",
        "    # Load the pre-trained BERT sentiment analysis model\n",
        "    sentiment_analyzer = pipeline('sentiment-analysis')\n",
        "\n",
        "    # Perform sentiment analysis on each headline using BERT\n",
        "    results = []\n",
        "    positive_count = 0\n",
        "    negative_count = 0\n",
        "    for headline in headlines:\n",
        "        sentiment = sentiment_analyzer(headline)[0]['label']\n",
        "\n",
        "        # Represent sentiment using emoji expressions\n",
        "        if sentiment == 'POSITIVE':\n",
        "            sentiment_emoji = '😊'\n",
        "            positive_count += 1\n",
        "        elif sentiment == 'NEGATIVE':\n",
        "            sentiment_emoji = '😰'\n",
        "            negative_count += 1\n",
        "        else:\n",
        "            sentiment_emoji = '😐'\n",
        "\n",
        "        results.append((headline, sentiment_emoji))\n",
        "\n",
        "    # Determine the buy recommendation based on sentiment\n",
        "    if positive_count > negative_count:\n",
        "        buy_recommendation = f'Buy {stock_name} 😊'\n",
        "    elif positive_count < negative_count:\n",
        "        buy_recommendation = f'Don\\'t buy {stock_name} 😰'\n",
        "    else:\n",
        "        buy_recommendation = f'Neutral on {stock_name} 😐'\n",
        "\n",
        "    return results, buy_recommendation\n",
        "\n",
        "# Create a text input widget for the user to enter a stock name\n",
        "stock_input = widgets.Text(\n",
        "    value='',\n",
        "    placeholder='Enter a stock name (e.g., 삼성전자)',\n",
        "    description='Stock Name:',\n",
        "    disabled=False\n",
        ")\n",
        "\n",
        "# Create a button to trigger the sentiment analysis and recommendation\n",
        "analyze_button = widgets.Button(description=\"Get Recommendation\")\n",
        "\n",
        "# Create an output widget to display the results\n",
        "output = widgets.Output()\n",
        "\n",
        "# Define a function to handle the button click\n",
        "def get_recommendation(button):\n",
        "    with output:\n",
        "        stock_name = stock_input.value\n",
        "        headline_results, buy_recommendation = get_stock_buy_recommendation(stock_name)\n",
        "\n",
        "        print(f'Top 10 news headlines for {stock_name}:')\n",
        "        for headline, emoji in headline_results:\n",
        "            print(f'{emoji} {headline}')\n",
        "\n",
        "        print()\n",
        "        print(buy_recommendation)\n",
        "\n",
        "# Add the widgets to the Colab notebook\n",
        "display(stock_input, analyze_button, output)\n",
        "\n",
        "# Connect the button click to the get_recommendation function\n",
        "analyze_button.on_click(get_recommendation)"
      ],
      "metadata": {
        "colab": {
          "base_uri": "https://localhost:8080/",
          "height": 447,
          "referenced_widgets": [
            "9f24d62b8b3c4e4a9ad33e8d8689eaef",
            "88446d14948a457ba25e570f63c4fad4",
            "89c2fa5e84694b00bd2b54eac889a852",
            "267b96fcfc7248ce82c7ce4a552cb060",
            "7e4f347a821f4372afa44953bd440800",
            "5253db22a4ef447ca2bdeeebdb6614e6",
            "cc81c5ed7c10403c8275282e66317bcc",
            "374403de6f774335969009052bc4feeb"
          ]
        },
        "id": "yLYP8l-azY9H",
        "outputId": "2f49a8f8-fe2f-4858-e57e-94496d070e14"
      },
      "execution_count": 30,
      "outputs": [
        {
          "output_type": "display_data",
          "data": {
            "text/plain": [
              "Text(value='', description='Stock Name:', placeholder='Enter a stock name (e.g., 삼성전자)')"
            ],
            "application/vnd.jupyter.widget-view+json": {
              "version_major": 2,
              "version_minor": 0,
              "model_id": "9f24d62b8b3c4e4a9ad33e8d8689eaef"
            }
          },
          "metadata": {}
        },
        {
          "output_type": "display_data",
          "data": {
            "text/plain": [
              "Button(description='Get Recommendation', style=ButtonStyle())"
            ],
            "application/vnd.jupyter.widget-view+json": {
              "version_major": 2,
              "version_minor": 0,
              "model_id": "267b96fcfc7248ce82c7ce4a552cb060"
            }
          },
          "metadata": {}
        },
        {
          "output_type": "display_data",
          "data": {
            "text/plain": [
              "Output()"
            ],
            "application/vnd.jupyter.widget-view+json": {
              "version_major": 2,
              "version_minor": 0,
              "model_id": "cc81c5ed7c10403c8275282e66317bcc"
            }
          },
          "metadata": {}
        }
      ]
    },
    {
      "cell_type": "markdown",
      "source": [
        "이모티콘 및 기사를 보여준다."
      ],
      "metadata": {
        "id": "3T0y2KVm371L"
      }
    },
    {
      "cell_type": "code",
      "source": [
        "import requests\n",
        "from bs4 import BeautifulSoup\n",
        "from transformers import pipeline\n",
        "import ipywidgets as widgets\n",
        "\n",
        "def get_sentiment_from_headlines(stock_name):\n",
        "    \"\"\"\n",
        "    Fetch news headlines related to the given stock, perform sentiment analysis using BERT, and return the results with emoji expressions.\n",
        "\n",
        "    Parameters:\n",
        "    stock_name (str): The name of the stock to search for\n",
        "\n",
        "    Returns:\n",
        "    list: List of tuples containing (headline, sentiment_emoji)\n",
        "    \"\"\"\n",
        "    # Fetch news headlines from Naver search\n",
        "    url = f'https://search.naver.com/search.naver?ie=utf8&sm=nws_hty&query={stock_name}'\n",
        "    response = requests.get(url)\n",
        "    soup = BeautifulSoup(response.content, 'html.parser')\n",
        "\n",
        "    # Extract news headline text\n",
        "    headlines = [headline.get_text() for headline in soup.find_all('a', class_='news_tit')]\n",
        "\n",
        "    # Load the pre-trained BERT sentiment analysis model\n",
        "    sentiment_analyzer = pipeline('sentiment-analysis')\n",
        "\n",
        "    # Perform sentiment analysis on each headline using BERT\n",
        "    results = []\n",
        "    for headline in headlines:\n",
        "        sentiment = sentiment_analyzer(headline)[0]['label']\n",
        "\n",
        "        # Represent sentiment using emoji expressions\n",
        "        if sentiment == 'POSITIVE':\n",
        "            sentiment_emoji = '😊'\n",
        "        elif sentiment == 'NEGATIVE':\n",
        "            sentiment_emoji = '😰'\n",
        "        else:\n",
        "            sentiment_emoji = '😐'\n",
        "\n",
        "        results.append((headline, sentiment_emoji))\n",
        "\n",
        "    return results\n",
        "\n",
        "# Create a text input widget for the user to enter a stock name\n",
        "stock_input = widgets.Text(\n",
        "    value='',\n",
        "    placeholder='Enter a stock name (e.g., 삼성전자)',\n",
        "    description='Stock Name:',\n",
        "    disabled=False\n",
        ")\n",
        "\n",
        "# Create a button to trigger the sentiment analysis\n",
        "analyze_button = widgets.Button(description=\"Analyze Sentiment\")\n",
        "\n",
        "# Create an output widget to display the results\n",
        "output = widgets.Output()\n",
        "\n",
        "# Define a function to handle the button click\n",
        "def analyze_sentiment(button):\n",
        "    with output:\n",
        "        stock_name = stock_input.value\n",
        "        sentiment_results = get_sentiment_from_headlines(stock_name)\n",
        "\n",
        "        print(f'Sentiment for news headlines related to {stock_name}:')\n",
        "        for headline, emoji in sentiment_results:\n",
        "            print(f'{emoji} {headline}')\n",
        "\n",
        "# Add the widgets to the Colab notebook\n",
        "display(stock_input, analyze_button, output)\n",
        "\n",
        "# Connect the button click to the analyze_sentiment function\n",
        "analyze_button.on_click(analyze_sentiment)"
      ],
      "metadata": {
        "colab": {
          "base_uri": "https://localhost:8080/",
          "height": 374,
          "referenced_widgets": [
            "9e8199e1c9c941c0877939af826a6b6b",
            "170553265e504cbb9ed55a0e1c5354a1",
            "588502b7c4b349338ae260fdda848abf",
            "eefebd60a2fa4643a3c2ab2dc4955913",
            "5807fca682c94321844ceff7dcf1ef6d",
            "ae81a011ab0b4b63a78e253709d954b7",
            "3ae4d660f5f94091ac25e9b44483edc5",
            "6cee2ec2319b4161992097a2b30a86bf"
          ]
        },
        "id": "Oq_AzXdTwDdv",
        "outputId": "b7c6e2e9-5542-4954-ffd4-73997515f0c1"
      },
      "execution_count": 28,
      "outputs": [
        {
          "output_type": "display_data",
          "data": {
            "text/plain": [
              "Text(value='', description='Stock Name:', placeholder='Enter a stock name (e.g., 삼성전자)')"
            ],
            "application/vnd.jupyter.widget-view+json": {
              "version_major": 2,
              "version_minor": 0,
              "model_id": "9e8199e1c9c941c0877939af826a6b6b"
            }
          },
          "metadata": {}
        },
        {
          "output_type": "display_data",
          "data": {
            "text/plain": [
              "Button(description='Analyze Sentiment', style=ButtonStyle())"
            ],
            "application/vnd.jupyter.widget-view+json": {
              "version_major": 2,
              "version_minor": 0,
              "model_id": "eefebd60a2fa4643a3c2ab2dc4955913"
            }
          },
          "metadata": {}
        },
        {
          "output_type": "display_data",
          "data": {
            "text/plain": [
              "Output()"
            ],
            "application/vnd.jupyter.widget-view+json": {
              "version_major": 2,
              "version_minor": 0,
              "model_id": "3ae4d660f5f94091ac25e9b44483edc5"
            }
          },
          "metadata": {}
        }
      ]
    },
    {
      "cell_type": "markdown",
      "source": [
        "추천 여부 알려준다."
      ],
      "metadata": {
        "id": "vqVKfPSV3_EA"
      }
    },
    {
      "cell_type": "code",
      "source": [
        "import requests\n",
        "from bs4 import BeautifulSoup\n",
        "from transformers import pipeline\n",
        "import ipywidgets as widgets\n",
        "\n",
        "def get_stock_buy_recommendation(stock_name):\n",
        "    \"\"\"\n",
        "    Fetch news headlines related to the given stock, perform sentiment analysis using BERT, and provide a buy recommendation.\n",
        "\n",
        "    Parameters:\n",
        "    stock_name (str): The name of the stock to search for\n",
        "\n",
        "    Returns:\n",
        "    str: The buy recommendation based on the news sentiment\n",
        "    \"\"\"\n",
        "    # Fetch news headlines from Naver search\n",
        "    url = f'https://search.naver.com/search.naver?ie=utf8&sm=nws_hty&query={stock_name}'\n",
        "    response = requests.get(url)\n",
        "    soup = BeautifulSoup(response.content, 'html.parser')\n",
        "\n",
        "    # Extract news headline text\n",
        "    headlines = [headline.get_text() for headline in soup.find_all('a', class_='news_tit')]\n",
        "\n",
        "    # Load the pre-trained BERT sentiment analysis model\n",
        "    sentiment_analyzer = pipeline('sentiment-analysis')\n",
        "\n",
        "    # Perform sentiment analysis on each headline using BERT\n",
        "    positive_count = 0\n",
        "    negative_count = 0\n",
        "    for headline in headlines:\n",
        "        sentiment = sentiment_analyzer(headline)[0]['label']\n",
        "        if sentiment == 'POSITIVE':\n",
        "            positive_count += 1\n",
        "        elif sentiment == 'NEGATIVE':\n",
        "            negative_count += 1\n",
        "\n",
        "    # Determine the buy recommendation based on sentiment\n",
        "    if positive_count > negative_count:\n",
        "        return f'Buy {stock_name} 😊'\n",
        "    elif positive_count < negative_count:\n",
        "        return f'Don\\'t buy {stock_name} 😰'\n",
        "    else:\n",
        "        return f'Neutral on {stock_name} 😐 '\n",
        "\n",
        "# Create a text input widget for the user to enter a stock name\n",
        "stock_input = widgets.Text(\n",
        "    value='',\n",
        "    placeholder='Enter a stock name (e.g., 삼성전자)',\n",
        "    description='Stock Name:',\n",
        "    disabled=False\n",
        ")\n",
        "\n",
        "# Create a button to trigger the sentiment analysis and recommendation\n",
        "analyze_button = widgets.Button(description=\"Get Recommendation\")\n",
        "\n",
        "# Create an output widget to display the results\n",
        "output = widgets.Output()\n",
        "\n",
        "# Define a function to handle the button click\n",
        "def get_recommendation(button):\n",
        "    with output:\n",
        "        stock_name = stock_input.value\n",
        "        recommendation = get_stock_buy_recommendation(stock_name)\n",
        "        print(recommendation)\n",
        "\n",
        "# Add the widgets to the Colab notebook\n",
        "display(stock_input, analyze_button, output)\n",
        "\n",
        "# Connect the button click to the get_recommendation function\n",
        "analyze_button.on_click(get_recommendation)"
      ],
      "metadata": {
        "colab": {
          "base_uri": "https://localhost:8080/",
          "height": 228,
          "referenced_widgets": [
            "86468d707f0f4a64b24e12502d335e77",
            "93ef9c7e6b294de690ec958d4c90eb48",
            "8f84b7058d804ce9bb20c50e21742f4c",
            "9fd0fcdf4e914de2a9089c007a569529",
            "4636e90ce503473fbba6826f0f0b9cf2",
            "a3d218cdedbf4419880714e7c73afb77",
            "3959fe3f217343fa91c67a1ea6d9276b",
            "02fe7e1659c0442dbb1a25395d9fb491"
          ]
        },
        "id": "EBmrYA38y29s",
        "outputId": "ed24c761-89eb-4a9f-a423-41f8a525e545"
      },
      "execution_count": 29,
      "outputs": [
        {
          "output_type": "display_data",
          "data": {
            "text/plain": [
              "Text(value='', description='Stock Name:', placeholder='Enter a stock name (e.g., 삼성전자)')"
            ],
            "application/vnd.jupyter.widget-view+json": {
              "version_major": 2,
              "version_minor": 0,
              "model_id": "86468d707f0f4a64b24e12502d335e77"
            }
          },
          "metadata": {}
        },
        {
          "output_type": "display_data",
          "data": {
            "text/plain": [
              "Button(description='Get Recommendation', style=ButtonStyle())"
            ],
            "application/vnd.jupyter.widget-view+json": {
              "version_major": 2,
              "version_minor": 0,
              "model_id": "9fd0fcdf4e914de2a9089c007a569529"
            }
          },
          "metadata": {}
        },
        {
          "output_type": "display_data",
          "data": {
            "text/plain": [
              "Output()"
            ],
            "application/vnd.jupyter.widget-view+json": {
              "version_major": 2,
              "version_minor": 0,
              "model_id": "3959fe3f217343fa91c67a1ea6d9276b"
            }
          },
          "metadata": {}
        }
      ]
    }
  ]
}